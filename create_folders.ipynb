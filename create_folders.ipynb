{
 "cells": [
  {
   "cell_type": "code",
   "execution_count": 1,
   "metadata": {},
   "outputs": [],
   "source": [
    "import os\n",
    "\n",
    "TARGET_LIST = ['having_finished_successfully', 'having_a_problem', 'process_ongoing', 'being_ready', 'having_news', 'being_empty', 'shutting_down', 'negative_warnings', 'urgency_reminder', 'encouraging_confirmations', 'starting_prompts', 'waiting_prompts', 'sophistication', 'positivity', 'progressiveness', 'dominance', 'solidity', 'purity', 'playfulness']\n",
    "folder = \"data/models/regression_models/ML_including_industry_feature/single_dimension\"\n",
    "for target in TARGET_LIST:\n",
    "    # create folder\n",
    "    #os.system(f\"mkdir -p {folder}/{target}\")\n",
    "    pass"
   ]
  },
  {
   "cell_type": "code",
   "execution_count": 2,
   "metadata": {},
   "outputs": [],
   "source": [
    "from src.utils.utils import load_global_variables, load_waveforms\n",
    "\n",
    "global_variables = load_global_variables()"
   ]
  },
  {
   "cell_type": "code",
   "execution_count": 6,
   "metadata": {},
   "outputs": [
    {
     "name": "stdout",
     "output_type": "stream",
     "text": [
      "1 waveforms loaded\n"
     ]
    }
   ],
   "source": [
    "from src.input_pipeline.input_features import *\n",
    "\n",
    "file_names = ['data/audios/AMG_Mobility-003.mp3']\n",
    "\n",
    "waveforms = load_waveforms(file_names, global_variables['sample_rate'])"
   ]
  },
  {
   "cell_type": "code",
   "execution_count": 5,
   "metadata": {},
   "outputs": [
    {
     "data": {
      "text/plain": [
       "['data/models/input_feature_models/timbre_coherence_lda.pkl']"
      ]
     },
     "execution_count": 5,
     "metadata": {},
     "output_type": "execute_result"
    }
   ],
   "source": [
    "import sys\n",
    "import joblib\n",
    "from src.input_pipeline.input_features import gmm_bic_score\n",
    "\n",
    "# Add the old module directory to sys.path\n",
    "sys.path.append('/Users/annikafrommholz/Documents/CODE/2404_somunicate')\n",
    "\n",
    "# Unpickle the model\n",
    "model = joblib.load('/Users/annikafrommholz/Documents/CODE/2410_somunicate_predictor/data/models/input_feature_models/timbre_coherence_lda.pkl')\n",
    "\n",
    "# save again\n",
    "joblib.dump(model, 'data/models/input_feature_models/timbre_coherence_lda.pkl')\n",
    "\n"
   ]
  },
  {
   "cell_type": "code",
   "execution_count": 5,
   "metadata": {},
   "outputs": [],
   "source": [
    "# Optionally, re-pickle the model with the new module paths\n",
    "with open('/Users/annikafrommholz/Documents/CODE/2410_somunicate_predictor/data/models/input_feature_models/loudness_log_likelihood_lda.pkl', 'wb') as f:\n",
    "    pickle.dump(model, f)"
   ]
  },
  {
   "cell_type": "code",
   "execution_count": 7,
   "metadata": {},
   "outputs": [
    {
     "name": "stderr",
     "output_type": "stream",
     "text": [
      "/Users/annikafrommholz/miniconda3/envs/somunicate/lib/python3.10/site-packages/sklearn/base.py:493: UserWarning: X does not have valid feature names, but LatentDirichletAllocation was fitted with feature names\n",
      "  warnings.warn(\n",
      "/Users/annikafrommholz/miniconda3/envs/somunicate/lib/python3.10/site-packages/sklearn/base.py:493: UserWarning: X does not have valid feature names, but LatentDirichletAllocation was fitted with feature names\n",
      "  warnings.warn(\n"
     ]
    },
    {
     "name": "stdout",
     "output_type": "stream",
     "text": [
      "[0.00066489 0.00066489 0.00066489 0.00066489 0.247013   0.00066489\n",
      " 0.0113769  0.01563662 0.00066489 0.00066489 0.00066489 0.54181842\n",
      " 0.17684123 0.00066489 0.00066489 0.00066489]\n",
      "[0.38988696 0.00075988 0.00075988 0.08067918 0.00075988 0.30161819\n",
      " 0.01998491 0.00075988 0.20099183 0.00075988 0.00075988 0.00075988\n",
      " 0.00075988 0.00075988]\n",
      "[Warning] Signal resampled to 48 kHz to allow calculation. To fulfill the standard requirements fs should be >=48 kHz.\n",
      "[0.0004651  0.17344421 0.23463793 0.00046547 0.43779882 0.00046562\n",
      " 0.00046557 0.15225728]\n"
     ]
    },
    {
     "name": "stderr",
     "output_type": "stream",
     "text": [
      "/Users/annikafrommholz/miniconda3/envs/somunicate/lib/python3.10/site-packages/sklearn/base.py:493: UserWarning: X does not have valid feature names, but LatentDirichletAllocation was fitted with feature names\n",
      "  warnings.warn(\n"
     ]
    }
   ],
   "source": [
    "for waveform in waveforms:\n",
    "\n",
    "    timpre_topics = get_model_input_timbre(waveform, global_variables)\n",
    "    print(timpre_topics)\n",
    "    chroma_topics = get_model_input_chroma(waveform, global_variables)\n",
    "    print(chroma_topics)\n",
    "    loudness_topics = get_model_input_loudness(waveform, global_variables)\n",
    "    print(loudness_topics)"
   ]
  }
 ],
 "metadata": {
  "kernelspec": {
   "display_name": "somunicate",
   "language": "python",
   "name": "python3"
  },
  "language_info": {
   "codemirror_mode": {
    "name": "ipython",
    "version": 3
   },
   "file_extension": ".py",
   "mimetype": "text/x-python",
   "name": "python",
   "nbconvert_exporter": "python",
   "pygments_lexer": "ipython3",
   "version": "3.10.14"
  }
 },
 "nbformat": 4,
 "nbformat_minor": 2
}
