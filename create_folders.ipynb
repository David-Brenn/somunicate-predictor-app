{
 "cells": [
  {
   "cell_type": "code",
   "execution_count": 1,
   "metadata": {},
   "outputs": [],
   "source": [
    "import os\n",
    "\n",
    "TARGET_LIST = ['having_finished_successfully', 'having_a_problem', 'process_ongoing', 'being_ready', 'having_news', 'being_empty', 'shutting_down', 'negative_warnings', 'urgency_reminder', 'encouraging_confirmations', 'starting_prompts', 'waiting_prompts', 'sophistication', 'positivity', 'progressiveness', 'dominance', 'solidity', 'purity', 'playfulness']\n",
    "folder = \"data/models/regression_models/ML_including_industry_feature/single_dimension\"\n",
    "for target in TARGET_LIST:\n",
    "    # create folder\n",
    "    #os.system(f\"mkdir -p {folder}/{target}\")\n",
    "    pass"
   ]
  },
  {
   "cell_type": "code",
   "execution_count": 10,
   "metadata": {},
   "outputs": [],
   "source": [
    "from src.utils.utils import load_global_variables, load_waveforms\n",
    "\n",
    "global_variables = load_global_variables()"
   ]
  },
  {
   "cell_type": "code",
   "execution_count": 11,
   "metadata": {},
   "outputs": [
    {
     "name": "stdout",
     "output_type": "stream",
     "text": [
      "1 waveforms loaded\n"
     ]
    }
   ],
   "source": [
    "from src.input_pipeline.input_features import *\n",
    "\n",
    "file_names = ['data/audios/AMG_Mobility-003.mp3']\n",
    "\n",
    "waveforms = load_waveforms(file_names, global_variables['sample_rate'])"
   ]
  },
  {
   "cell_type": "code",
   "execution_count": 12,
   "metadata": {},
   "outputs": [
    {
     "ename": "AttributeError",
     "evalue": "'numpy.ndarray' object has no attribute 'best_estimator_'",
     "output_type": "error",
     "traceback": [
      "\u001b[0;31m---------------------------------------------------------------------------\u001b[0m",
      "\u001b[0;31mAttributeError\u001b[0m                            Traceback (most recent call last)",
      "Cell \u001b[0;32mIn[12], line 3\u001b[0m\n\u001b[1;32m      1\u001b[0m \u001b[38;5;28;01mfor\u001b[39;00m waveform \u001b[38;5;129;01min\u001b[39;00m waveforms:\n\u001b[0;32m----> 3\u001b[0m     timpre_topics \u001b[38;5;241m=\u001b[39m \u001b[43mget_model_input_timbre\u001b[49m\u001b[43m(\u001b[49m\u001b[43mwaveform\u001b[49m\u001b[43m,\u001b[49m\u001b[43m \u001b[49m\u001b[43mglobal_variables\u001b[49m\u001b[43m)\u001b[49m\n",
      "File \u001b[0;32m~/Documents/CODE/2410_somunicate_predictor/src/input_pipeline/input_features.py:118\u001b[0m, in \u001b[0;36mget_model_input_timbre\u001b[0;34m(waveform, global_variables)\u001b[0m\n\u001b[1;32m    110\u001b[0m \u001b[38;5;28;01mdef\u001b[39;00m \u001b[38;5;21mget_model_input_timbre\u001b[39m(waveform, global_variables) \u001b[38;5;241m-\u001b[39m\u001b[38;5;241m>\u001b[39m np\u001b[38;5;241m.\u001b[39marray:\n\u001b[1;32m    111\u001b[0m \u001b[38;5;250m    \u001b[39m\u001b[38;5;124;03m\"\"\"\u001b[39;00m\n\u001b[1;32m    112\u001b[0m \u001b[38;5;124;03m    Extract timbre features from an audio waveform and return\u001b[39;00m\n\u001b[1;32m    113\u001b[0m \u001b[38;5;124;03m    topic distribution for 16 timbre topics.\u001b[39;00m\n\u001b[0;32m   (...)\u001b[0m\n\u001b[1;32m    116\u001b[0m \u001b[38;5;124;03m    3) Transform cluster count to timbre topics using LDA\u001b[39;00m\n\u001b[1;32m    117\u001b[0m \u001b[38;5;124;03m    \"\"\"\u001b[39;00m\n\u001b[0;32m--> 118\u001b[0m     timbre_pca, timbre_scaler, timbre_gmm, timbre_lda \u001b[38;5;241m=\u001b[39m \u001b[43mload_timbre_models\u001b[49m\u001b[43m(\u001b[49m\u001b[43m)\u001b[49m\n\u001b[1;32m    119\u001b[0m     \u001b[38;5;66;03m# extract audio features\u001b[39;00m\n\u001b[1;32m    120\u001b[0m     mfcc \u001b[38;5;241m=\u001b[39m extract_mfcc_features(\n\u001b[1;32m    121\u001b[0m         waveform,\n\u001b[1;32m    122\u001b[0m         global_variables[\u001b[38;5;124m\"\u001b[39m\u001b[38;5;124mn_mfcc\u001b[39m\u001b[38;5;124m\"\u001b[39m],\n\u001b[0;32m   (...)\u001b[0m\n\u001b[1;32m    125\u001b[0m         global_variables[\u001b[38;5;124m\"\u001b[39m\u001b[38;5;124mhop_size\u001b[39m\u001b[38;5;124m\"\u001b[39m],\n\u001b[1;32m    126\u001b[0m     )\n",
      "File \u001b[0;32m~/Documents/CODE/2410_somunicate_predictor/src/input_pipeline/input_features.py:106\u001b[0m, in \u001b[0;36mload_timbre_models\u001b[0;34m()\u001b[0m\n\u001b[1;32m    100\u001b[0m timbre_scaler \u001b[38;5;241m=\u001b[39m joblib\u001b[38;5;241m.\u001b[39mload(\u001b[38;5;124m\"\u001b[39m\u001b[38;5;124mdata/models/input_feature_models/timbre_scaler.pkl\u001b[39m\u001b[38;5;124m\"\u001b[39m)\n\u001b[1;32m    101\u001b[0m timbre_gmm \u001b[38;5;241m=\u001b[39m joblib\u001b[38;5;241m.\u001b[39mload(\n\u001b[1;32m    102\u001b[0m     \u001b[38;5;124m\"\u001b[39m\u001b[38;5;124mdata/models/input_feature_models/timbre_gmm.pkl\u001b[39m\u001b[38;5;124m\"\u001b[39m\n\u001b[1;32m    103\u001b[0m )\u001b[38;5;241m.\u001b[39mbest_estimator_\n\u001b[1;32m    104\u001b[0m timbre_lda \u001b[38;5;241m=\u001b[39m \u001b[43mjoblib\u001b[49m\u001b[38;5;241;43m.\u001b[39;49m\u001b[43mload\u001b[49m\u001b[43m(\u001b[49m\n\u001b[1;32m    105\u001b[0m \u001b[43m    \u001b[49m\u001b[38;5;124;43m\"\u001b[39;49m\u001b[38;5;124;43mdata/models/input_feature_models/timbre_coherence_lda.pkl\u001b[39;49m\u001b[38;5;124;43m\"\u001b[39;49m\n\u001b[0;32m--> 106\u001b[0m \u001b[43m\u001b[49m\u001b[43m)\u001b[49m\u001b[38;5;241;43m.\u001b[39;49m\u001b[43mbest_estimator_\u001b[49m\n\u001b[1;32m    107\u001b[0m \u001b[38;5;28;01mreturn\u001b[39;00m timbre_pca, timbre_scaler, timbre_gmm, timbre_lda\n",
      "\u001b[0;31mAttributeError\u001b[0m: 'numpy.ndarray' object has no attribute 'best_estimator_'"
     ]
    }
   ],
   "source": [
    "for waveform in waveforms:\n",
    "\n",
    "    timpre_topics = get_model_input_timbre(waveform, global_variables)"
   ]
  }
 ],
 "metadata": {
  "kernelspec": {
   "display_name": "somunicate",
   "language": "python",
   "name": "python3"
  },
  "language_info": {
   "codemirror_mode": {
    "name": "ipython",
    "version": 3
   },
   "file_extension": ".py",
   "mimetype": "text/x-python",
   "name": "python",
   "nbconvert_exporter": "python",
   "pygments_lexer": "ipython3",
   "version": "3.10.14"
  }
 },
 "nbformat": 4,
 "nbformat_minor": 2
}
