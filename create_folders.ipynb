{
 "cells": [
  {
   "cell_type": "code",
   "execution_count": null,
   "metadata": {},
   "outputs": [],
   "source": [
    "import os\n",
    "\n",
    "TARGET_LIST = ['having_finished_successfully', 'having_a_problem', 'process_ongoing', 'being_ready', 'having_news', 'being_empty', 'shutting_down', 'negative_warnings', 'urgency_reminder', 'encouraging_confirmations', 'starting_prompts', 'waiting_prompts', 'sophistication', 'positivity', 'progressiveness', 'dominance', 'solidity', 'purity', 'playfulness']\n",
    "folder = \"data/models/regression_models/ML_including_industry_feature/single_dimension\"\n",
    "for target in TARGET_LIST:\n",
    "    # create folder\n",
    "    os.system(f\"mkdir -p {folder}/{target}\")"
   ]
  }
 ],
 "metadata": {
  "language_info": {
   "name": "python"
  }
 },
 "nbformat": 4,
 "nbformat_minor": 2
}
